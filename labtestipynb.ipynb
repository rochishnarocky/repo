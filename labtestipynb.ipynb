{
  "nbformat": 4,
  "nbformat_minor": 0,
  "metadata": {
    "colab": {
      "provenance": [],
      "authorship_tag": "ABX9TyOyTeEtn+tze4gcUvnoPYfW",
      "include_colab_link": true
    },
    "kernelspec": {
      "name": "python3",
      "display_name": "Python 3"
    },
    "language_info": {
      "name": "python"
    }
  },
  "cells": [
    {
      "cell_type": "markdown",
      "metadata": {
        "id": "view-in-github",
        "colab_type": "text"
      },
      "source": [
        "<a href=\"https://colab.research.google.com/github/rochishnarocky/repo/blob/main/labtestipynb.ipynb\" target=\"_parent\"><img src=\"https://colab.research.google.com/assets/colab-badge.svg\" alt=\"Open In Colab\"/></a>"
      ]
    },
    {
      "cell_type": "code",
      "execution_count": 1,
      "metadata": {
        "colab": {
          "base_uri": "https://localhost:8080/"
        },
        "id": "c0DO7nEjwOOa",
        "outputId": "c2247078-4365-4db2-db00-01fcec6d0330"
      },
      "outputs": [
        {
          "output_type": "stream",
          "name": "stdout",
          "text": [
            "Mounted at /content/drive\n"
          ]
        }
      ],
      "source": [
        "from google.colab import drive\n",
        "drive.mount('/content/drive')"
      ]
    },
    {
      "cell_type": "code",
      "source": [
        "import pandas as pd\n",
        "df = pd.read_excel('/content/drive/MyDrive/cleaned_odd.xlsx')"
      ],
      "metadata": {
        "id": "5zCuSsKjxAF7"
      },
      "execution_count": 3,
      "outputs": []
    },
    {
      "cell_type": "markdown",
      "source": [
        "QUESTION 1\n",
        " are there any missing values in any columns, if so in which columns?"
      ],
      "metadata": {
        "id": "eJWMfZsowf4M"
      }
    },
    {
      "cell_type": "code",
      "source": [
        "df.isnull().sum()\n"
      ],
      "metadata": {
        "colab": {
          "base_uri": "https://localhost:8080/",
          "height": 303
        },
        "id": "6zIfhMEuwxUE",
        "outputId": "326169d0-a796-4e38-8810-843b0dc2b5bb"
      },
      "execution_count": 4,
      "outputs": [
        {
          "output_type": "execute_result",
          "data": {
            "text/plain": [
              "Employee_Name                 9\n",
              "Employee_ID                   0\n",
              "Job_Role                     10\n",
              "Phone_Number                  8\n",
              "Email_ID                      9\n",
              "Total_Work_Hour_per_Month    23\n",
              "Salary_per_Month             20\n",
              "dtype: int64"
            ],
            "text/html": [
              "<div>\n",
              "<style scoped>\n",
              "    .dataframe tbody tr th:only-of-type {\n",
              "        vertical-align: middle;\n",
              "    }\n",
              "\n",
              "    .dataframe tbody tr th {\n",
              "        vertical-align: top;\n",
              "    }\n",
              "\n",
              "    .dataframe thead th {\n",
              "        text-align: right;\n",
              "    }\n",
              "</style>\n",
              "<table border=\"1\" class=\"dataframe\">\n",
              "  <thead>\n",
              "    <tr style=\"text-align: right;\">\n",
              "      <th></th>\n",
              "      <th>0</th>\n",
              "    </tr>\n",
              "  </thead>\n",
              "  <tbody>\n",
              "    <tr>\n",
              "      <th>Employee_Name</th>\n",
              "      <td>9</td>\n",
              "    </tr>\n",
              "    <tr>\n",
              "      <th>Employee_ID</th>\n",
              "      <td>0</td>\n",
              "    </tr>\n",
              "    <tr>\n",
              "      <th>Job_Role</th>\n",
              "      <td>10</td>\n",
              "    </tr>\n",
              "    <tr>\n",
              "      <th>Phone_Number</th>\n",
              "      <td>8</td>\n",
              "    </tr>\n",
              "    <tr>\n",
              "      <th>Email_ID</th>\n",
              "      <td>9</td>\n",
              "    </tr>\n",
              "    <tr>\n",
              "      <th>Total_Work_Hour_per_Month</th>\n",
              "      <td>23</td>\n",
              "    </tr>\n",
              "    <tr>\n",
              "      <th>Salary_per_Month</th>\n",
              "      <td>20</td>\n",
              "    </tr>\n",
              "  </tbody>\n",
              "</table>\n",
              "</div><br><label><b>dtype:</b> int64</label>"
            ]
          },
          "metadata": {},
          "execution_count": 4
        }
      ]
    },
    {
      "cell_type": "markdown",
      "source": [
        "QUESTION 2\n",
        "what is the datatype for each column, is it appropiate?"
      ],
      "metadata": {
        "id": "c3SFT7YWxToM"
      }
    },
    {
      "cell_type": "code",
      "source": [
        "df.dtypes\n"
      ],
      "metadata": {
        "colab": {
          "base_uri": "https://localhost:8080/",
          "height": 303
        },
        "id": "IerQLD2vxdj0",
        "outputId": "f3cb7df9-e1dc-4db8-9598-2bb5db102845"
      },
      "execution_count": 5,
      "outputs": [
        {
          "output_type": "execute_result",
          "data": {
            "text/plain": [
              "Employee_Name                 object\n",
              "Employee_ID                    int64\n",
              "Job_Role                      object\n",
              "Phone_Number                 float64\n",
              "Email_ID                      object\n",
              "Total_Work_Hour_per_Month    float64\n",
              "Salary_per_Month             float64\n",
              "dtype: object"
            ],
            "text/html": [
              "<div>\n",
              "<style scoped>\n",
              "    .dataframe tbody tr th:only-of-type {\n",
              "        vertical-align: middle;\n",
              "    }\n",
              "\n",
              "    .dataframe tbody tr th {\n",
              "        vertical-align: top;\n",
              "    }\n",
              "\n",
              "    .dataframe thead th {\n",
              "        text-align: right;\n",
              "    }\n",
              "</style>\n",
              "<table border=\"1\" class=\"dataframe\">\n",
              "  <thead>\n",
              "    <tr style=\"text-align: right;\">\n",
              "      <th></th>\n",
              "      <th>0</th>\n",
              "    </tr>\n",
              "  </thead>\n",
              "  <tbody>\n",
              "    <tr>\n",
              "      <th>Employee_Name</th>\n",
              "      <td>object</td>\n",
              "    </tr>\n",
              "    <tr>\n",
              "      <th>Employee_ID</th>\n",
              "      <td>int64</td>\n",
              "    </tr>\n",
              "    <tr>\n",
              "      <th>Job_Role</th>\n",
              "      <td>object</td>\n",
              "    </tr>\n",
              "    <tr>\n",
              "      <th>Phone_Number</th>\n",
              "      <td>float64</td>\n",
              "    </tr>\n",
              "    <tr>\n",
              "      <th>Email_ID</th>\n",
              "      <td>object</td>\n",
              "    </tr>\n",
              "    <tr>\n",
              "      <th>Total_Work_Hour_per_Month</th>\n",
              "      <td>float64</td>\n",
              "    </tr>\n",
              "    <tr>\n",
              "      <th>Salary_per_Month</th>\n",
              "      <td>float64</td>\n",
              "    </tr>\n",
              "  </tbody>\n",
              "</table>\n",
              "</div><br><label><b>dtype:</b> object</label>"
            ]
          },
          "metadata": {},
          "execution_count": 5
        }
      ]
    },
    {
      "cell_type": "markdown",
      "source": [
        "phone number should not be float"
      ],
      "metadata": {
        "id": "Yw7AXgOdyy2O"
      }
    },
    {
      "cell_type": "markdown",
      "source": [
        "QUESTION 3\n",
        "Some employees have “9999” in the Total_Work_Hour_per_Month column. What does this represent, and should it be replaced?"
      ],
      "metadata": {
        "id": "uVvWN8paxwWn"
      }
    },
    {
      "cell_type": "markdown",
      "source": [
        "**ans** : it most likely is an error, or a dummy value used to fill missing or unknown work hours\n",
        "it can be replaced with none, or average, or minimum"
      ],
      "metadata": {
        "id": "kvCrN5XHyGD1"
      }
    },
    {
      "cell_type": "code",
      "source": [
        "#ans\n",
        "df['Total_Work_Hour_per_Month'] = df['Total_Work_Hour_per_Month'].replace(9999, None)\n"
      ],
      "metadata": {
        "id": "xkmedMSsyBQM"
      },
      "execution_count": 6,
      "outputs": []
    },
    {
      "cell_type": "markdown",
      "source": [
        "QUESTION 4\n",
        "The Phone_Number column has inconsistent formats. What steps can be taken to standardize it"
      ],
      "metadata": {
        "id": "8j7gCtoNykwV"
      }
    },
    {
      "cell_type": "markdown",
      "source": [
        "**ans**:  The Phone_Number column has inconsistent formats because it's stored as a float, causing numbers to lose leading zeros and show decimals."
      ],
      "metadata": {
        "id": "qvnMKoufyn61"
      }
    },
    {
      "cell_type": "code",
      "source": [
        "df['Phone_Number'] = df['Phone_Number'].astype(str).str.replace(r'\\.0$', '', regex=True)\n"
      ],
      "metadata": {
        "id": "YhW2MRFoynDk"
      },
      "execution_count": 7,
      "outputs": []
    },
    {
      "cell_type": "markdown",
      "source": [
        "QUESTION 5\n",
        "Compute an \"Hourly Wage\" column from Salary_per_Month and Total_Work_Hour_per_Month."
      ],
      "metadata": {
        "id": "gwKPmGkczAGe"
      }
    },
    {
      "cell_type": "code",
      "source": [
        "df['Total_Work_Hour_per_Month'] = df['Total_Work_Hour_per_Month'].replace(9999, None)\n"
      ],
      "metadata": {
        "id": "WGKv9XM_y_ZH"
      },
      "execution_count": 8,
      "outputs": []
    },
    {
      "cell_type": "markdown",
      "source": [],
      "metadata": {
        "id": "UuzbHlyVy6aF"
      }
    }
  ]
}